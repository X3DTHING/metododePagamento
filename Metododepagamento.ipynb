{
  "nbformat": 4,
  "nbformat_minor": 0,
  "metadata": {
    "colab": {
      "provenance": [],
      "authorship_tag": "ABX9TyOav/mWxmQqx86pZ/3q736H",
      "include_colab_link": true
    },
    "kernelspec": {
      "name": "python3",
      "display_name": "Python 3"
    },
    "language_info": {
      "name": "python"
    }
  },
  "cells": [
    {
      "cell_type": "markdown",
      "metadata": {
        "id": "view-in-github",
        "colab_type": "text"
      },
      "source": [
        "<a href=\"https://colab.research.google.com/github/X3DTHING/metododePagamento/blob/main/Metododepagamento.ipynb\" target=\"_parent\"><img src=\"https://colab.research.google.com/assets/colab-badge.svg\" alt=\"Open In Colab\"/></a>"
      ]
    },
    {
      "cell_type": "code",
      "execution_count": 3,
      "metadata": {
        "colab": {
          "base_uri": "https://localhost:8080/"
        },
        "id": "61HsHHJWdWXz",
        "outputId": "6c1d6da1-1402-4b5c-bad7-326d4cf839ef"
      },
      "outputs": [
        {
          "output_type": "stream",
          "name": "stdout",
          "text": [
            "Digite o preço do produto: 40\n",
            "Digite o método de pagamento (cartão ou à vista): à vista\n",
            "Preço final com pagamento à vista: R$ 36.800000000000004\n"
          ]
        }
      ],
      "source": [
        "preco_produto = float(input(\"Digite o preço do produto: \"))\n",
        "\n",
        "# Solicita ao usuário que insira o método de pagamento\n",
        "metodo_pagamento = input(\"Digite o método de pagamento (cartão ou à vista): \")\n",
        "\n",
        "if metodo_pagamento.lower() == \"cartão\":\n",
        "    preco_final = preco_produto * 1.15  # Aumento de 15% para pagamento com cartão\n",
        "    print(\"Preço final com pagamento no cartão: R$\", preco_final)\n",
        "elif metodo_pagamento.lower() == \"à vista\":\n",
        "    preco_final = preco_produto * 0.92  # Desconto de 8% para pagamento à vista\n",
        "    print(\"Preço final com pagamento à vista: R$\", preco_final)\n",
        "else:\n",
        "    print(\"Método de pagamento inválido. Por favor, insira 'cartão' ou 'à vista'.\")\n"
      ]
    }
  ]
}